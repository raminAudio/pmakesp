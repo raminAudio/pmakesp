{
 "cells": [
  {
   "cell_type": "markdown",
   "id": "7ad5a0ee",
   "metadata": {},
   "source": [
    "# \n",
    "Find a pair with the given sum in an array\n",
    "Assuming all positive integers\n",
    "\n",
    "Input:\n",
    " \n",
    "nums = [8, 7, 2, 5, 3, 1]\n",
    "target = 10\n",
    " \n",
    "Output:\n",
    " \n",
    "Pair found (8, 2)\n",
    "or\n",
    "Pair found (7, 3)\n",
    " \n",
    " \n",
    "Input:\n",
    " \n",
    "nums = [5, 2, 6, 8, 1, 9]\n",
    "target = 12\n",
    " \n",
    "Output: Pair not found\n"
   ]
  },
  {
   "cell_type": "code",
   "execution_count": 44,
   "id": "0bb3cf18",
   "metadata": {},
   "outputs": [],
   "source": [
    "input_vector =  [8, 7, 2, 5, 3, 1]\n",
    "target = 10 "
   ]
  },
  {
   "cell_type": "code",
   "execution_count": 36,
   "id": "16c5f890",
   "metadata": {},
   "outputs": [],
   "source": [
    "# sort, subtract, lookup \n",
    "def pair_sum_to_target(input_vector,target):\n",
    "    if len(input_vector):\n",
    "        sorted_input_vector = sorted(input_vector)\n",
    "        if target <= sorted_input_vector[0]:\n",
    "            return False\n",
    "        for i in range(len(sorted_input_vector)):\n",
    "            candidate = target - sorted_input_vector[i]\n",
    "            if candidate in sorted_input_vector[i+1:]:\n",
    "                return sorted_input_vector[i],candidate\n",
    "    return False\n",
    "#O(n log(n)) + o(n) (worst case o(n))"
   ]
  },
  {
   "cell_type": "code",
   "execution_count": 37,
   "id": "7d726276",
   "metadata": {},
   "outputs": [
    {
     "data": {
      "text/plain": [
       "(2, 8)"
      ]
     },
     "execution_count": 37,
     "metadata": {},
     "output_type": "execute_result"
    }
   ],
   "source": [
    "pair_sum_to_target(input_vector,target)"
   ]
  },
  {
   "cell_type": "code",
   "execution_count": 38,
   "id": "6e195dfc",
   "metadata": {},
   "outputs": [],
   "source": [
    "# use remainder as a key look up in a dict\n",
    "def pair_sum_to_target_v2(input_vector,target):\n",
    "    dict_track = {}\n",
    "    if len(input_vector):\n",
    "        for i in range(len(input_vector)):\n",
    "            candidate = target - input_vector[i]\n",
    "            if candidate in input_vector[i+1:] :\n",
    "                return candidate,input_vector[i]\n",
    "            if candidate in dict_track.keys():\n",
    "                index = dict_track[candidate]\n",
    "                if i != index:\n",
    "                    return input_vector[i],input_vector[index]\n",
    "            else:\n",
    "                dict_track[candidate] = i\n",
    "            \n",
    "    return False\n",
    "\n",
    "# O(n)"
   ]
  },
  {
   "cell_type": "code",
   "execution_count": 39,
   "id": "faf54937",
   "metadata": {},
   "outputs": [
    {
     "data": {
      "text/plain": [
       "(2, 8)"
      ]
     },
     "execution_count": 39,
     "metadata": {},
     "output_type": "execute_result"
    }
   ],
   "source": [
    "pair_sum_to_target_v2(input_vector,target)"
   ]
  },
  {
   "cell_type": "code",
   "execution_count": 40,
   "id": "d6a2b8ec",
   "metadata": {},
   "outputs": [],
   "source": [
    "input_vector = [5, 2, 6, 8, 1, 9]\n",
    "target = 12"
   ]
  },
  {
   "cell_type": "code",
   "execution_count": 41,
   "id": "aca101a0",
   "metadata": {},
   "outputs": [
    {
     "data": {
      "text/plain": [
       "False"
      ]
     },
     "execution_count": 41,
     "metadata": {},
     "output_type": "execute_result"
    }
   ],
   "source": [
    "pair_sum_to_target_v2(input_vector,target)"
   ]
  },
  {
   "cell_type": "code",
   "execution_count": 109,
   "id": "38052ce5",
   "metadata": {},
   "outputs": [],
   "source": [
    "# what about all the pairs? \n",
    "\n",
    "def pair_sum_to_target_v3(input_vector,target):\n",
    "    dict_track = {}\n",
    "    all_pairs = []\n",
    "    seen_idx = []\n",
    "    seen_vs = []\n",
    "    if len(input_vector):\n",
    "        for i in range(len(input_vector)):\n",
    "            candidate = target - input_vector[i]\n",
    "            if input_vector[i] in dict_track.keys():\n",
    "                index = dict_track[input_vector[i]]\n",
    "                if index < i: \n",
    "                    tuple_ = (index,i)\n",
    "                else:\n",
    "                    tuple_ = (i,index)\n",
    "                vs = (input_vector[i],input_vector[index])\n",
    "                if i != index and tuple_ not in seen_idx and vs not in all_pairs:\n",
    "                    all_pairs.append(vs)\n",
    "                    seen_idx.append(tuple_)\n",
    "            else:\n",
    "                dict_track[candidate] = i\n",
    "    return all_pairs"
   ]
  },
  {
   "cell_type": "code",
   "execution_count": 110,
   "id": "f66043fa",
   "metadata": {},
   "outputs": [
    {
     "data": {
      "text/plain": [
       "[(2, 8), (3, 7), (9, 1), (5, 5)]"
      ]
     },
     "execution_count": 110,
     "metadata": {},
     "output_type": "execute_result"
    }
   ],
   "source": [
    "input_vector =  [8, 7, 2, 5, 3, 1 , 9, 5, 8, 22]\n",
    "target = 10 \n",
    "pair_sum_to_target_v3(input_vector,target)"
   ]
  },
  {
   "cell_type": "code",
   "execution_count": 111,
   "id": "0dee8db6",
   "metadata": {},
   "outputs": [
    {
     "data": {
      "text/plain": [
       "[(93, 7)]"
      ]
     },
     "execution_count": 111,
     "metadata": {},
     "output_type": "execute_result"
    }
   ],
   "source": [
    "input_vector =  [8, 7, 5, 8, 29, 120, 43 , 93, -102 , 2]\n",
    "target = 100 \n",
    "pair_sum_to_target_v3(input_vector,target)"
   ]
  },
  {
   "cell_type": "code",
   "execution_count": 119,
   "id": "e6a139ae",
   "metadata": {},
   "outputs": [],
   "source": [
    "# how about negative numbers in the input vector? it's already handled\n",
    "\n",
    "def pair_sum_to_target_v4(input_vector,target):\n",
    "    dict_track = {}\n",
    "    all_pairs = []\n",
    "    seen_idx = []\n",
    "    seen_vs = []\n",
    "    if len(input_vector):\n",
    "        for i in range(len(input_vector)):\n",
    "            candidate = target - input_vector[i]\n",
    "            if input_vector[i] in dict_track.keys():\n",
    "                index = dict_track[input_vector[i]]\n",
    "                if index < i: \n",
    "                    tuple_ = (index,i)\n",
    "                else:\n",
    "                    tuple_ = (i,index)\n",
    "                vs = (input_vector[i],input_vector[index])\n",
    "                if i != index and tuple_ not in seen_idx and vs not in all_pairs:\n",
    "                    all_pairs.append(vs)\n",
    "                    seen_idx.append(tuple_)\n",
    "            else:\n",
    "                dict_track[candidate] = i\n",
    "    return all_pairs"
   ]
  },
  {
   "cell_type": "code",
   "execution_count": 120,
   "id": "acd933d4",
   "metadata": {},
   "outputs": [
    {
     "name": "stdout",
     "output_type": "stream",
     "text": [
      "{92: 3, 93: 1, 95: 2, 71: 4, -20: 5, 57: 6, 102: 7}\n"
     ]
    },
    {
     "data": {
      "text/plain": [
       "[(102, -2)]"
      ]
     },
     "execution_count": 120,
     "metadata": {},
     "output_type": "execute_result"
    }
   ],
   "source": [
    "input_vector =  [8, 7, 5, 8, 29, 120, 43 , -2 , 102]\n",
    "target = 100 \n",
    "pair_sum_to_target_v4(input_vector,target)"
   ]
  },
  {
   "cell_type": "code",
   "execution_count": 121,
   "id": "ca818c1d",
   "metadata": {},
   "outputs": [],
   "source": [
    "# how about negative numbers in the input vector and target? it's already handled\n",
    "\n",
    "def pair_sum_to_target_v5(input_vector,target):\n",
    "    dict_track = {}\n",
    "    all_pairs = []\n",
    "    seen_idx = []\n",
    "    seen_vs = []\n",
    "    if len(input_vector):\n",
    "        for i in range(len(input_vector)):\n",
    "            candidate = target - input_vector[i]\n",
    "            if input_vector[i] in dict_track.keys():\n",
    "                index = dict_track[input_vector[i]]\n",
    "                if index < i: \n",
    "                    tuple_ = (index,i)\n",
    "                else:\n",
    "                    tuple_ = (i,index)\n",
    "                vs = (input_vector[i],input_vector[index])\n",
    "                if i != index and tuple_ not in seen_idx and vs not in all_pairs:\n",
    "                    all_pairs.append(vs)\n",
    "                    seen_idx.append(tuple_)\n",
    "            else:\n",
    "                dict_track[candidate] = i\n",
    "    return all_pairs"
   ]
  },
  {
   "cell_type": "code",
   "execution_count": 126,
   "id": "418fe8ef",
   "metadata": {},
   "outputs": [
    {
     "data": {
      "text/plain": [
       "[(-98, -2), (2, -102), (-992, 892)]"
      ]
     },
     "execution_count": 126,
     "metadata": {},
     "output_type": "execute_result"
    }
   ],
   "source": [
    "input_vector =  [8, 7, 5, 8, 29, 120, 43 , -2 , 102, -98,-102,2,892, -992]\n",
    "target = -100 \n",
    "pair_sum_to_target_v5(input_vector,target)"
   ]
  },
  {
   "cell_type": "code",
   "execution_count": 128,
   "id": "cef41cee",
   "metadata": {},
   "outputs": [],
   "source": [
    "# how about factions? it's already handled\n",
    "\n",
    "def pair_sum_to_target_v6(input_vector,target):\n",
    "    dict_track = {}\n",
    "    all_pairs = []\n",
    "    seen_idx = []\n",
    "    seen_vs = []\n",
    "    if len(input_vector):\n",
    "        for i in range(len(input_vector)):\n",
    "            candidate = target - input_vector[i]\n",
    "            if input_vector[i] in dict_track.keys():\n",
    "                index = dict_track[input_vector[i]]\n",
    "                if index < i: \n",
    "                    tuple_ = (index,i)\n",
    "                else:\n",
    "                    tuple_ = (i,index)\n",
    "                vs = (input_vector[i],input_vector[index])\n",
    "                if i != index and tuple_ not in seen_idx and vs not in all_pairs:\n",
    "                    all_pairs.append(vs)\n",
    "                    seen_idx.append(tuple_)\n",
    "            else:\n",
    "                dict_track[candidate] = i\n",
    "    return all_pairs"
   ]
  },
  {
   "cell_type": "code",
   "execution_count": 129,
   "id": "e27bc1ab",
   "metadata": {},
   "outputs": [
    {
     "data": {
      "text/plain": [
       "[(-11, 0.6)]"
      ]
     },
     "execution_count": 129,
     "metadata": {},
     "output_type": "execute_result"
    }
   ],
   "source": [
    "input_vector =  [8, 7, 5, 8, 29, 120,0.6,-11]\n",
    "target = -10.4 \n",
    "pair_sum_to_target_v6(input_vector,target)"
   ]
  },
  {
   "cell_type": "code",
   "execution_count": null,
   "id": "b17a0c01",
   "metadata": {},
   "outputs": [],
   "source": []
  }
 ],
 "metadata": {
  "kernelspec": {
   "display_name": "Python 3 (ipykernel)",
   "language": "python",
   "name": "python3"
  },
  "language_info": {
   "codemirror_mode": {
    "name": "ipython",
    "version": 3
   },
   "file_extension": ".py",
   "mimetype": "text/x-python",
   "name": "python",
   "nbconvert_exporter": "python",
   "pygments_lexer": "ipython3",
   "version": "3.8.12"
  }
 },
 "nbformat": 4,
 "nbformat_minor": 5
}
